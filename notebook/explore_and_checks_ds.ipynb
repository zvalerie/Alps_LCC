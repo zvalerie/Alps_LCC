{
 "cells": [
  {
   "cell_type": "code",
   "execution_count": 1,
   "metadata": {},
   "outputs": [],
   "source": [
    "import sys\n",
    "sys.path.append(\"..\") \n"
   ]
  },
  {
   "cell_type": "code",
   "execution_count": 2,
   "metadata": {},
   "outputs": [],
   "source": [
    "%load_ext autoreload\n",
    "%autoreload 2"
   ]
  },
  {
   "cell_type": "code",
   "execution_count": 29,
   "metadata": {},
   "outputs": [],
   "source": [
    "img_dir = '/home/valerie/data/rocky_tlm/rgb/'  #'/data/xiaolong/rgb'\n",
    "dem_dir = '/home/valerie/data/rocky_tlm/dem/' # /data/xiaolong/dem'\n",
    "mask_dir = '/home/valerie/data/ace_alps/mask'\n",
    "few_index = [2,3,4,6]\n",
    "ds_csv = '/home/valerie/Projects/Alps_LCC/data/split_subset/train_subset.csv'"
   ]
  },
  {
   "cell_type": "code",
   "execution_count": 35,
   "metadata": {},
   "outputs": [],
   "source": [
    "from XL.data_preprocessing.data_preprocess import *\n",
    "\n",
    "#label_selection(label_path=mask_dir, rgb_path=img_dir,threshold=0.1)"
   ]
  },
  {
   "cell_type": "code",
   "execution_count": 5,
   "metadata": {},
   "outputs": [
    {
     "data": {
      "text/plain": [
       "59.740399728267"
      ]
     },
     "execution_count": 5,
     "metadata": {},
     "output_type": "execute_result"
    }
   ],
   "source": [
    "238317 /398921 *100"
   ]
  },
  {
   "cell_type": "code",
   "execution_count": 6,
   "metadata": {},
   "outputs": [],
   "source": [
    "from XL.data_preprocessing.data_preprocess import class_distribution\n",
    "\n",
    "for path in os.listdir('data/split/'):\n",
    "    \n",
    "    class_distribution('data/split/'+path,path.replace('.csv','')+'_class_distribution')"
   ]
  },
  {
   "cell_type": "code",
   "execution_count": 9,
   "metadata": {},
   "outputs": [
    {
     "name": "stderr",
     "output_type": "stream",
     "text": [
      "  0%|          | 0/45907 [00:00<?, ?it/s]"
     ]
    },
    {
     "name": "stderr",
     "output_type": "stream",
     "text": [
      "100%|██████████| 45907/45907 [00:35<00:00, 1301.89it/s]\n"
     ]
    }
   ],
   "source": [
    "few_categories_tile_selection('/home/valerie/Projects/Alps_LCC/data/split/test_dataset.csv',few_index=few_index)"
   ]
  },
  {
   "cell_type": "code",
   "execution_count": 39,
   "metadata": {},
   "outputs": [
    {
     "name": "stdout",
     "output_type": "stream",
     "text": [
      "137721\n",
      "45907\n",
      "45907\n"
     ]
    }
   ],
   "source": [
    "df = pd.read_csv('/home/valerie/Projects/Alps_LCC/data/split/train_dataset.csv')\n",
    "print(len(df))\n",
    "df = pd.read_csv('/home/valerie/Projects/Alps_LCC/data/split/test_dataset.csv')\n",
    "print(len(df))\n",
    "df = pd.read_csv('/home/valerie/Projects/Alps_LCC/data/split/val_dataset.csv')\n",
    "print(len(df))"
   ]
  },
  {
   "cell_type": "code",
   "execution_count": 41,
   "metadata": {},
   "outputs": [
    {
     "data": {
      "text/plain": [
       "(0.6, 0.2, 0.2)"
      ]
     },
     "execution_count": 41,
     "metadata": {},
     "output_type": "execute_result"
    }
   ],
   "source": [
    "137721 + 45907 + 45907\n",
    "137721 /229535, 45907  /229535, 45907 /229535"
   ]
  },
  {
   "cell_type": "code",
   "execution_count": 22,
   "metadata": {},
   "outputs": [
    {
     "data": {
      "text/plain": [
       "10.0    40490\n",
       "1.0     39967\n",
       "9.0     34448\n",
       "14.0    15675\n",
       "11.0     1621\n",
       "7.0      1457\n",
       "13.0     1115\n",
       "15.0      985\n",
       "12.0      809\n",
       "2.0       793\n",
       "3.0       304\n",
       "4.0        32\n",
       "5.0        25\n",
       "Name: mainclass, dtype: int64"
      ]
     },
     "execution_count": 22,
     "metadata": {},
     "output_type": "execute_result"
    }
   ],
   "source": [
    "df = pd.read_csv('/home/valerie/Projects/Alps_LCC/data/split/train_dataset.csv')\n",
    "df['mainclass'].value_counts(dropna=False)"
   ]
  },
  {
   "cell_type": "code",
   "execution_count": 31,
   "metadata": {},
   "outputs": [
    {
     "data": {
      "text/plain": [
       "10.0    4049\n",
       "1.0     3997\n",
       "9.0     3445\n",
       "14.0    1568\n",
       "11.0     162\n",
       "7.0      146\n",
       "13.0     112\n",
       "15.0      98\n",
       "12.0      81\n",
       "2.0       79\n",
       "3.0       30\n",
       "4.0        3\n",
       "5.0        2\n",
       "Name: mainclass, dtype: int64"
      ]
     },
     "execution_count": 31,
     "metadata": {},
     "output_type": "execute_result"
    }
   ],
   "source": [
    "df = pd.read_csv('/home/valerie/Projects/Alps_LCC/data/split_subset/train_subset.csv')\n",
    "df['mainclass'].value_counts(dropna=False)\n"
   ]
  },
  {
   "cell_type": "code",
   "execution_count": 25,
   "metadata": {},
   "outputs": [
    {
     "data": {
      "text/plain": [
       "0    12519\n",
       "1     1253\n",
       "Name: few, dtype: int64"
      ]
     },
     "execution_count": 25,
     "metadata": {},
     "output_type": "execute_result"
    }
   ],
   "source": [
    "df = pd.read_csv('/home/valerie/Projects/Alps_LCC/data/split_subset/train_subset_few.csv')\n",
    "df['few'].value_counts(dropna=False)"
   ]
  },
  {
   "cell_type": "code",
   "execution_count": 54,
   "metadata": {},
   "outputs": [
    {
     "name": "stderr",
     "output_type": "stream",
     "text": [
      "  0%|          | 0/13772 [00:00<?, ?it/s]"
     ]
    },
    {
     "name": "stderr",
     "output_type": "stream",
     "text": [
      "100%|██████████| 13772/13772 [00:44<00:00, 308.41it/s]\n",
      "100%|██████████| 13772/13772 [00:45<00:00, 305.49it/s]\n"
     ]
    },
    {
     "data": {
      "text/plain": [
       "(array([1.25531791e-05, 0.00000000e+00, 0.00000000e+00]),\n",
       " array([1.01035076, 0.        , 0.        ]))"
      ]
     },
     "execution_count": 54,
     "metadata": {},
     "output_type": "execute_result"
    }
   ],
   "source": [
    "from XL.lib.dataset.SwissImage import SwissImage\n",
    "\n",
    "ds = SwissImage(dataset_csv=ds_csv, img_dir= img_dir,dem_dir=dem_dir,mask_dir=mask_dir)\n",
    "cal_mean_std(ds)"
   ]
  },
  {
   "cell_type": "code",
   "execution_count": 53,
   "metadata": {},
   "outputs": [
    {
     "name": "stderr",
     "output_type": "stream",
     "text": [
      "100%|██████████| 13772/13772 [00:44<00:00, 307.39it/s]\n"
     ]
    },
    {
     "data": {
      "text/plain": [
       "(array([-76.72212083, -73.21015558, -88.50203275,   0.50212398]),\n",
       " array([0.4887262 , 0.5016815 , 0.41442088, 0.01979469]))"
      ]
     },
     "execution_count": 53,
     "metadata": {},
     "output_type": "execute_result"
    }
   ],
   "source": [
    "compute_mean_std(ds)"
   ]
  },
  {
   "cell_type": "code",
   "execution_count": null,
   "metadata": {},
   "outputs": [],
   "source": []
  }
 ],
 "metadata": {
  "kernelspec": {
   "display_name": "ace",
   "language": "python",
   "name": "python3"
  },
  "language_info": {
   "codemirror_mode": {
    "name": "ipython",
    "version": 3
   },
   "file_extension": ".py",
   "mimetype": "text/x-python",
   "name": "python",
   "nbconvert_exporter": "python",
   "pygments_lexer": "ipython3",
   "version": "3.11.3"
  },
  "orig_nbformat": 4
 },
 "nbformat": 4,
 "nbformat_minor": 2
}
