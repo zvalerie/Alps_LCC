{
 "cells": [
  {
   "cell_type": "code",
   "execution_count": 14,
   "metadata": {},
   "outputs": [],
   "source": [
    "import sys\n",
    "sys.path.append(\"..\") \n"
   ]
  },
  {
   "cell_type": "code",
   "execution_count": 15,
   "metadata": {},
   "outputs": [
    {
     "name": "stdout",
     "output_type": "stream",
     "text": [
      "The autoreload extension is already loaded. To reload it, use:\n",
      "  %reload_ext autoreload\n"
     ]
    }
   ],
   "source": [
    "%load_ext autoreload\n",
    "%autoreload 2"
   ]
  },
  {
   "cell_type": "code",
   "execution_count": 16,
   "metadata": {},
   "outputs": [],
   "source": [
    "img_dir = '/home/valerie/data/rocky_tlm/rgb/'  #'/data/xiaolong/rgb'\n",
    "dem_dir = '/home/valerie/data/rocky_tlm/dem/' # /data/xiaolong/dem'\n",
    "mask_dir = '/home/valerie/data/ace_alps/mask'\n",
    "few_index = [2,3,4,6]\n",
    "ds_csv = '/home/valerie/Projects/Alps_LCC/data/split_subset/train_subset.csv'"
   ]
  },
  {
   "cell_type": "code",
   "execution_count": 17,
   "metadata": {},
   "outputs": [],
   "source": [
    "from XL.data_preprocessing.data_preprocess import *\n",
    "\n",
    "#label_selection(label_path=mask_dir, rgb_path=img_dir,threshold=0.1)"
   ]
  },
  {
   "cell_type": "code",
   "execution_count": 18,
   "metadata": {},
   "outputs": [
    {
     "data": {
      "text/plain": [
       "59.740399728267"
      ]
     },
     "execution_count": 18,
     "metadata": {},
     "output_type": "execute_result"
    }
   ],
   "source": [
    "238317 /398921 *100"
   ]
  },
  {
   "cell_type": "code",
   "execution_count": 19,
   "metadata": {},
   "outputs": [],
   "source": [
    "from XL.data_preprocessing.data_preprocess import class_distribution\n",
    "\n",
    "for path in os.listdir('/home/valerie/Projects/Alps_LCC/data/split/'):\n",
    "    \n",
    "    class_distribution('/home/valerie/Projects/Alps_LCC/data/split/'+path,path.replace('.csv','')+'_class_distribution')"
   ]
  },
  {
   "cell_type": "code",
   "execution_count": 23,
   "metadata": {},
   "outputs": [
    {
     "name": "stderr",
     "output_type": "stream",
     "text": [
      "  0%|          | 0/45907 [00:00<?, ?it/s]\n"
     ]
    },
    {
     "ename": "FileNotFoundError",
     "evalue": "[Errno 2] No such file or directory: '/home/valerie/data/ace_alps/mask/25637_11123_label.tif'",
     "output_type": "error",
     "traceback": [
      "\u001b[0;31m---------------------------------------------------------------------------\u001b[0m",
      "\u001b[0;31mFileNotFoundError\u001b[0m                         Traceback (most recent call last)",
      "\u001b[1;32m/home/valerie/Projects/Alps_LCC/notebook/explore_and_checks_ds.ipynb Cell 7\u001b[0m line \u001b[0;36m1\n\u001b[0;32m----> <a href='vscode-notebook-cell:/home/valerie/Projects/Alps_LCC/notebook/explore_and_checks_ds.ipynb#W6sZmlsZQ%3D%3D?line=0'>1</a>\u001b[0m few_categories_tile_selection(\u001b[39m'\u001b[39m\u001b[39m/home/valerie/Projects/Alps_LCC/data/split/test_dataset.csv\u001b[39m\u001b[39m'\u001b[39m,few_index\u001b[39m=\u001b[39mfew_index)\n",
      "File \u001b[0;32m~/Projects/Alps_LCC/notebook/../XL/data_preprocessing/data_preprocess.py:75\u001b[0m, in \u001b[0;36mfew_categories_tile_selection\u001b[0;34m(filepath, few_index)\u001b[0m\n\u001b[1;32m     73\u001b[0m \u001b[39mfor\u001b[39;00m idx \u001b[39min\u001b[39;00m tqdm(\u001b[39mrange\u001b[39m(\u001b[39mlen\u001b[39m(df))):\n\u001b[1;32m     74\u001b[0m     mask_path \u001b[39m=\u001b[39m os\u001b[39m.\u001b[39mpath\u001b[39m.\u001b[39mjoin(mask_dir, df\u001b[39m.\u001b[39miloc[idx, \u001b[39m2\u001b[39m])\n\u001b[0;32m---> 75\u001b[0m     img \u001b[39m=\u001b[39m Image\u001b[39m.\u001b[39mopen(mask_path)\n\u001b[1;32m     76\u001b[0m     img \u001b[39m=\u001b[39m np\u001b[39m.\u001b[39marray(img)\n\u001b[1;32m     77\u001b[0m     classes, counts \u001b[39m=\u001b[39m np\u001b[39m.\u001b[39munique(img, return_counts\u001b[39m=\u001b[39m\u001b[39mTrue\u001b[39;00m)\n",
      "File \u001b[0;32m~/anaconda3/envs/ace/lib/python3.11/site-packages/PIL/Image.py:3227\u001b[0m, in \u001b[0;36mopen\u001b[0;34m(fp, mode, formats)\u001b[0m\n\u001b[1;32m   3224\u001b[0m     filename \u001b[39m=\u001b[39m fp\n\u001b[1;32m   3226\u001b[0m \u001b[39mif\u001b[39;00m filename:\n\u001b[0;32m-> 3227\u001b[0m     fp \u001b[39m=\u001b[39m builtins\u001b[39m.\u001b[39mopen(filename, \u001b[39m\"\u001b[39m\u001b[39mrb\u001b[39m\u001b[39m\"\u001b[39m)\n\u001b[1;32m   3228\u001b[0m     exclusive_fp \u001b[39m=\u001b[39m \u001b[39mTrue\u001b[39;00m\n\u001b[1;32m   3230\u001b[0m \u001b[39mtry\u001b[39;00m:\n",
      "\u001b[0;31mFileNotFoundError\u001b[0m: [Errno 2] No such file or directory: '/home/valerie/data/ace_alps/mask/25637_11123_label.tif'"
     ]
    }
   ],
   "source": [
    "few_categories_tile_selection('/home/valerie/Projects/Alps_LCC/data/split/test_dataset.csv',few_index=few_index)"
   ]
  },
  {
   "cell_type": "code",
   "execution_count": 24,
   "metadata": {},
   "outputs": [
    {
     "name": "stdout",
     "output_type": "stream",
     "text": [
      "137721\n",
      "45907\n",
      "45907\n"
     ]
    }
   ],
   "source": [
    "df = pd.read_csv('/home/valerie/Projects/Alps_LCC/data/split/train_dataset.csv')\n",
    "print(len(df))\n",
    "df = pd.read_csv('/home/valerie/Projects/Alps_LCC/data/split/test_dataset.csv')\n",
    "print(len(df))\n",
    "df = pd.read_csv('/home/valerie/Projects/Alps_LCC/data/split/val_dataset.csv')\n",
    "print(len(df))"
   ]
  },
  {
   "cell_type": "code",
   "execution_count": null,
   "metadata": {},
   "outputs": [],
   "source": [
    "137721 + 45907 + 45907\n",
    "137721 /229535, 45907  /229535, 45907 /229535"
   ]
  },
  {
   "cell_type": "code",
   "execution_count": 25,
   "metadata": {},
   "outputs": [
    {
     "data": {
      "text/plain": [
       "10.0    40490\n",
       "1.0     39967\n",
       "9.0     34448\n",
       "14.0    15675\n",
       "11.0     1621\n",
       "7.0      1457\n",
       "13.0     1115\n",
       "15.0      985\n",
       "12.0      809\n",
       "2.0       793\n",
       "3.0       304\n",
       "4.0        32\n",
       "5.0        25\n",
       "Name: mainclass, dtype: int64"
      ]
     },
     "execution_count": 25,
     "metadata": {},
     "output_type": "execute_result"
    }
   ],
   "source": [
    "df = pd.read_csv('/home/valerie/Projects/Alps_LCC/data/split/train_dataset.csv')\n",
    "df['mainclass'].value_counts(dropna=False)"
   ]
  },
  {
   "cell_type": "code",
   "execution_count": 26,
   "metadata": {},
   "outputs": [
    {
     "data": {
      "text/plain": [
       "10.0    4049\n",
       "1.0     3997\n",
       "9.0     3445\n",
       "14.0    1568\n",
       "11.0     162\n",
       "7.0      146\n",
       "13.0     112\n",
       "15.0      98\n",
       "12.0      81\n",
       "2.0       79\n",
       "3.0       30\n",
       "4.0        3\n",
       "5.0        2\n",
       "Name: mainclass, dtype: int64"
      ]
     },
     "execution_count": 26,
     "metadata": {},
     "output_type": "execute_result"
    }
   ],
   "source": [
    "df = pd.read_csv('/home/valerie/Projects/Alps_LCC/data/split_subset/train_subset.csv')\n",
    "df['mainclass'].value_counts(dropna=False)\n"
   ]
  },
  {
   "cell_type": "code",
   "execution_count": 27,
   "metadata": {},
   "outputs": [
    {
     "data": {
      "text/plain": [
       "0    12519\n",
       "1     1253\n",
       "Name: few, dtype: int64"
      ]
     },
     "execution_count": 27,
     "metadata": {},
     "output_type": "execute_result"
    }
   ],
   "source": [
    "df = pd.read_csv('/home/valerie/Projects/Alps_LCC/data/split_subset/train_subset_few.csv')\n",
    "df['few'].value_counts(dropna=False)"
   ]
  },
  {
   "cell_type": "code",
   "execution_count": 28,
   "metadata": {},
   "outputs": [
    {
     "ename": "ModuleNotFoundError",
     "evalue": "No module named 'XL.lib.dataset'",
     "output_type": "error",
     "traceback": [
      "\u001b[0;31m---------------------------------------------------------------------------\u001b[0m",
      "\u001b[0;31mModuleNotFoundError\u001b[0m                       Traceback (most recent call last)",
      "\u001b[1;32m/home/valerie/Projects/Alps_LCC/notebook/explore_and_checks_ds.ipynb Cell 13\u001b[0m line \u001b[0;36m1\n\u001b[0;32m----> <a href='vscode-notebook-cell:/home/valerie/Projects/Alps_LCC/notebook/explore_and_checks_ds.ipynb#X15sZmlsZQ%3D%3D?line=0'>1</a>\u001b[0m \u001b[39mfrom\u001b[39;00m \u001b[39mXL\u001b[39;00m\u001b[39m.\u001b[39;00m\u001b[39mlib\u001b[39;00m\u001b[39m.\u001b[39;00m\u001b[39mdataset\u001b[39;00m\u001b[39m.\u001b[39;00m\u001b[39mSwissImage\u001b[39;00m \u001b[39mimport\u001b[39;00m SwissImage\n\u001b[1;32m      <a href='vscode-notebook-cell:/home/valerie/Projects/Alps_LCC/notebook/explore_and_checks_ds.ipynb#X15sZmlsZQ%3D%3D?line=2'>3</a>\u001b[0m ds \u001b[39m=\u001b[39m SwissImage(dataset_csv\u001b[39m=\u001b[39mds_csv, img_dir\u001b[39m=\u001b[39m img_dir,dem_dir\u001b[39m=\u001b[39mdem_dir,mask_dir\u001b[39m=\u001b[39mmask_dir)\n\u001b[1;32m      <a href='vscode-notebook-cell:/home/valerie/Projects/Alps_LCC/notebook/explore_and_checks_ds.ipynb#X15sZmlsZQ%3D%3D?line=3'>4</a>\u001b[0m cal_mean_std(ds)\n",
      "\u001b[0;31mModuleNotFoundError\u001b[0m: No module named 'XL.lib.dataset'"
     ]
    }
   ],
   "source": [
    "from XL.lib.dataset.SwissImage import SwissImage\n",
    "\n",
    "ds = SwissImage(dataset_csv=ds_csv, img_dir= img_dir,dem_dir=dem_dir,mask_dir=mask_dir)\n",
    "cal_mean_std(ds)"
   ]
  },
  {
   "cell_type": "code",
   "execution_count": 29,
   "metadata": {},
   "outputs": [
    {
     "ename": "NameError",
     "evalue": "name 'ds' is not defined",
     "output_type": "error",
     "traceback": [
      "\u001b[0;31m---------------------------------------------------------------------------\u001b[0m",
      "\u001b[0;31mNameError\u001b[0m                                 Traceback (most recent call last)",
      "\u001b[1;32m/home/valerie/Projects/Alps_LCC/notebook/explore_and_checks_ds.ipynb Cell 14\u001b[0m line \u001b[0;36m1\n\u001b[0;32m----> <a href='vscode-notebook-cell:/home/valerie/Projects/Alps_LCC/notebook/explore_and_checks_ds.ipynb#X16sZmlsZQ%3D%3D?line=0'>1</a>\u001b[0m compute_mean_std(ds)\n",
      "\u001b[0;31mNameError\u001b[0m: name 'ds' is not defined"
     ]
    }
   ],
   "source": [
    "compute_mean_std(ds)"
   ]
  },
  {
   "cell_type": "code",
   "execution_count": null,
   "metadata": {},
   "outputs": [],
   "source": []
  }
 ],
 "metadata": {
  "kernelspec": {
   "display_name": "ace",
   "language": "python",
   "name": "python3"
  },
  "language_info": {
   "codemirror_mode": {
    "name": "ipython",
    "version": 3
   },
   "file_extension": ".py",
   "mimetype": "text/x-python",
   "name": "python",
   "nbconvert_exporter": "python",
   "pygments_lexer": "ipython3",
   "version": "3.11.3"
  },
  "orig_nbformat": 4
 },
 "nbformat": 4,
 "nbformat_minor": 2
}
