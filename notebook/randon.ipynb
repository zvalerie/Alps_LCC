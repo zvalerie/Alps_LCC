{
 "cells": [
  {
   "cell_type": "code",
   "execution_count": 1,
   "metadata": {},
   "outputs": [],
   "source": [
    "import torch"
   ]
  },
  {
   "cell_type": "code",
   "execution_count": 24,
   "metadata": {},
   "outputs": [
    {
     "data": {
      "text/plain": [
       "tensor([[[[1, 7, 1, 3],\n",
       "          [0, 0, 3, 5]]],\n",
       "\n",
       "\n",
       "        [[[5, 4, 2, 4],\n",
       "          [8, 4, 9, 6]]],\n",
       "\n",
       "\n",
       "        [[[8, 2, 0, 5],\n",
       "          [8, 2, 9, 9]]],\n",
       "\n",
       "\n",
       "        [[[4, 8, 9, 0],\n",
       "          [3, 0, 0, 3]]],\n",
       "\n",
       "\n",
       "        [[[4, 2, 4, 0],\n",
       "          [8, 9, 2, 6]]]])"
      ]
     },
     "execution_count": 24,
     "metadata": {},
     "output_type": "execute_result"
    }
   ],
   "source": [
    "x = torch.randint(low=0,high =10, size=[5,1,2,4])\n",
    "class_idx = [7,8,9,0]\n",
    "x"
   ]
  },
  {
   "cell_type": "code",
   "execution_count": 28,
   "metadata": {},
   "outputs": [],
   "source": [
    "\n",
    "# Create a one-hot mask tensor for the specified class indices\n",
    "class_mask = torch.zeros((10,))\n",
    "class_mask[class_idx] = 1\n",
    "class_mask = class_mask.view(1, 10, 1, 1)\n"
   ]
  },
  {
   "cell_type": "code",
   "execution_count": 30,
   "metadata": {},
   "outputs": [
    {
     "ename": "RuntimeError",
     "evalue": "The expanded size of the tensor (1) must match the existing size (10) at non-singleton dimension 1.  Target sizes: [5, 1, 2, 4].  Tensor sizes: [1, 10, 1, 1]",
     "output_type": "error",
     "traceback": [
      "\u001b[0;31m---------------------------------------------------------------------------\u001b[0m",
      "\u001b[0;31mRuntimeError\u001b[0m                              Traceback (most recent call last)",
      "Cell \u001b[0;32mIn[30], line 2\u001b[0m\n\u001b[1;32m      1\u001b[0m \u001b[39m# Expand the mask tensor to match the shape of the input tensor\u001b[39;00m\n\u001b[0;32m----> 2\u001b[0m expanded_mask \u001b[39m=\u001b[39m class_mask\u001b[39m.\u001b[39mexpand([\u001b[39m5\u001b[39m,\u001b[39m1\u001b[39m,\u001b[39m2\u001b[39m,\u001b[39m4\u001b[39m])\n",
      "\u001b[0;31mRuntimeError\u001b[0m: The expanded size of the tensor (1) must match the existing size (10) at non-singleton dimension 1.  Target sizes: [5, 1, 2, 4].  Tensor sizes: [1, 10, 1, 1]"
     ]
    }
   ],
   "source": [
    "\n",
    "# Expand the mask tensor to match the shape of the input tensor\n",
    "expanded_mask = class_mask.expand([5,1,2,4])"
   ]
  },
  {
   "cell_type": "code",
   "execution_count": 37,
   "metadata": {},
   "outputs": [
    {
     "name": "stdout",
     "output_type": "stream",
     "text": [
      "tensor([[[[3, 1, 4, 0],\n",
      "          [1, 1, 1, 0]]],\n",
      "\n",
      "\n",
      "        [[[3, 4, 1, 1],\n",
      "          [3, 0, 2, 1]]],\n",
      "\n",
      "\n",
      "        [[[2, 2, 1, 2],\n",
      "          [1, 4, 0, 3]]],\n",
      "\n",
      "\n",
      "        [[[2, 4, 2, 4],\n",
      "          [2, 2, 0, 3]]],\n",
      "\n",
      "\n",
      "        [[[4, 1, 2, 3],\n",
      "          [3, 1, 1, 2]]]]) tensor([[[[ True,  True, False, False],\n",
      "          [ True,  True,  True, False]]],\n",
      "\n",
      "\n",
      "        [[[ True, False,  True,  True],\n",
      "          [ True, False, False,  True]]],\n",
      "\n",
      "\n",
      "        [[[False, False,  True, False],\n",
      "          [ True, False, False,  True]]],\n",
      "\n",
      "\n",
      "        [[[False, False, False, False],\n",
      "          [False, False, False,  True]]],\n",
      "\n",
      "\n",
      "        [[[False,  True, False,  True],\n",
      "          [ True,  True,  True, False]]]])\n"
     ]
    }
   ],
   "source": [
    "import torch\n",
    "\n",
    "# Assuming you have a tensor of class labels\n",
    "class_labels = torch.randint(low=0,high =5, size=[5,1,2,4])\n",
    "\n",
    "# Define the classes you want to create a mask for\n",
    "target_classes = [1, 3, 5]\n",
    "\n",
    "# Create a mask tensor with the same shape as the class_labels tensor\n",
    "mask = torch.zeros_like(class_labels, dtype=torch.bool)\n",
    "\n",
    "# Set the elements of the mask to True for the target classes\n",
    "for target_class in target_classes:\n",
    "    mask = mask | (class_labels == target_class)\n",
    "\n",
    "# Print the mask\n",
    "print(class_labels, mask)\n"
   ]
  },
  {
   "cell_type": "code",
   "execution_count": 40,
   "metadata": {},
   "outputs": [
    {
     "ename": "RuntimeError",
     "evalue": "The size of tensor a (4) must match the size of tensor b (3) at non-singleton dimension 2",
     "output_type": "error",
     "traceback": [
      "\u001b[0;31m---------------------------------------------------------------------------\u001b[0m",
      "\u001b[0;31mRuntimeError\u001b[0m                              Traceback (most recent call last)",
      "Cell \u001b[0;32mIn[40], line 10\u001b[0m\n\u001b[1;32m      7\u001b[0m target_classes \u001b[39m=\u001b[39m [\u001b[39m1\u001b[39m, \u001b[39m3\u001b[39m, \u001b[39m5\u001b[39m]\n\u001b[1;32m      9\u001b[0m \u001b[39m# Create a mask tensor using torch.eq() and torch.any()\u001b[39;00m\n\u001b[0;32m---> 10\u001b[0m mask \u001b[39m=\u001b[39m torch\u001b[39m.\u001b[39many(torch\u001b[39m.\u001b[39meq(class_labels\u001b[39m.\u001b[39msqueeze(), torch\u001b[39m.\u001b[39mtensor(target_classes)), dim\u001b[39m=\u001b[39m\u001b[39m1\u001b[39m)\n\u001b[1;32m     12\u001b[0m \u001b[39mprint\u001b[39m(class_labels, mask)\n",
      "\u001b[0;31mRuntimeError\u001b[0m: The size of tensor a (4) must match the size of tensor b (3) at non-singleton dimension 2"
     ]
    }
   ],
   "source": [
    "import torch\n",
    "\n",
    "# Assuming you have a tensor of class labels\n",
    "class_labels = torch.randint(low=0,high =10, size=[5,1,2,4])\n",
    "\n",
    "# Define the classes you want to create a mask for\n",
    "target_classes = [1, 3, 5]\n",
    "\n",
    "# Create a mask tensor using torch.eq() and torch.any()\n",
    "mask = torch.any(torch.eq(class_labels.squeeze(), torch.tensor(target_classes)), dim=1)\n",
    "\n",
    "print(class_labels, mask)\n"
   ]
  },
  {
   "cell_type": "code",
   "execution_count": 42,
   "metadata": {},
   "outputs": [
    {
     "name": "stdout",
     "output_type": "stream",
     "text": [
      "tensor([[[[3, 5, 8, 2],\n",
      "          [1, 4, 5, 8]]],\n",
      "\n",
      "\n",
      "        [[[6, 2, 0, 4],\n",
      "          [3, 2, 6, 2]]],\n",
      "\n",
      "\n",
      "        [[[8, 7, 0, 7],\n",
      "          [0, 8, 9, 3]]],\n",
      "\n",
      "\n",
      "        [[[7, 1, 9, 7],\n",
      "          [0, 1, 7, 6]]],\n",
      "\n",
      "\n",
      "        [[[5, 7, 3, 5],\n",
      "          [6, 4, 6, 5]]]]) tensor([[[[False, False,  True, False],\n",
      "          [False, False, False,  True]]],\n",
      "\n",
      "\n",
      "        [[[False, False, False, False],\n",
      "          [False, False, False, False]]],\n",
      "\n",
      "\n",
      "        [[[ True,  True, False,  True],\n",
      "          [False,  True,  True, False]]],\n",
      "\n",
      "\n",
      "        [[[ True, False,  True,  True],\n",
      "          [False, False,  True, False]]],\n",
      "\n",
      "\n",
      "        [[[False,  True, False, False],\n",
      "          [False, False, False, False]]]])\n"
     ]
    }
   ],
   "source": [
    "import torch\n",
    "\n",
    "# Assuming you have a tensor of class labels\n",
    "class_labels =  torch.randint(low=0,high =10, size=[5,1,2,4])\n",
    "\n",
    "# Define the classes you want to create a mask for\n",
    "target_classes = [9,8,7]\n",
    "\n",
    "# Create a mask tensor using torch.isin()\n",
    "mask = torch.isin(class_labels, torch.tensor(target_classes))\n",
    "\n",
    "# Print the mask\n",
    "print(class_labels, mask)\n"
   ]
  },
  {
   "cell_type": "code",
   "execution_count": null,
   "metadata": {},
   "outputs": [],
   "source": []
  },
  {
   "cell_type": "code",
   "execution_count": null,
   "metadata": {},
   "outputs": [],
   "source": []
  }
 ],
 "metadata": {
  "kernelspec": {
   "display_name": "ace",
   "language": "python",
   "name": "python3"
  },
  "language_info": {
   "codemirror_mode": {
    "name": "ipython",
    "version": 3
   },
   "file_extension": ".py",
   "mimetype": "text/x-python",
   "name": "python",
   "nbconvert_exporter": "python",
   "pygments_lexer": "ipython3",
   "version": "3.11.3"
  },
  "orig_nbformat": 4
 },
 "nbformat": 4,
 "nbformat_minor": 2
}
