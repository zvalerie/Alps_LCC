{
 "cells": [
  {
   "cell_type": "code",
   "execution_count": 16,
   "metadata": {},
   "outputs": [
    {
     "name": "stdout",
     "output_type": "stream",
     "text": [
      "['/home/valerie/Projects/Alps_LCC/notebook', '/home/valerie/anaconda3/envs/ace/lib/python311.zip', '/home/valerie/anaconda3/envs/ace/lib/python3.11', '/home/valerie/anaconda3/envs/ace/lib/python3.11/lib-dynload', '', '/home/valerie/anaconda3/envs/ace/lib/python3.11/site-packages', '..', '/home/valerie/Projects/Alps_LCC/models', '.', '.', 'models/', '.', '..', '..', '/home/valerie/Projects/Alps_LCC/models']\n"
     ]
    }
   ],
   "source": [
    "import os\n",
    "import sys\n",
    "import numpy as np\n",
    "import pandas as pd\n",
    "import json\n",
    "from tqdm import tqdm\n",
    "from pprint import pprint\n",
    "import torch\n",
    "sys.path.append('..')\n",
    "sys.path.append('/home/valerie/Projects/Alps_LCC/models')\n",
    "print(sys.path)\n",
    "\n",
    "import torch\n",
    "from torchvision.models import resnet50\n",
    "import matplotlib.pyplot as plt\n",
    "from models.ACE_Better_DeepLabV3Plus import ACE_deeplabv3P_w_Better_Experts\n",
    "from argparse import Namespace\n",
    "from dataset.SwissImageDataset import SwissImage\n",
    "from torch.utils.data import DataLoader\n",
    "torch.set_grad_enabled(False) \n",
    "from torch.nn.functional import softmax\n"
   ]
  },
  {
   "cell_type": "code",
   "execution_count": 17,
   "metadata": {},
   "outputs": [],
   "source": [
    "classes = {'Background':0, \"Bedrock\" : 1, \"Bedrockwith grass\" : 2,\n",
    "                    \"Large blocks\" : 3, \"Large blocks with grass\" : 4, \"Scree\" : 5,\n",
    "                    \"Scree with grass\" : 6,\"Water\" : 7,\n",
    "                    \"Forest\" : 8, \"Glacier\" : 9, }  "
   ]
  },
  {
   "cell_type": "code",
   "execution_count": 18,
   "metadata": {},
   "outputs": [
    {
     "name": "stdout",
     "output_type": "stream",
     "text": [
      "{'CNN_aggregator': False,\n",
      " 'L2penalty': False,\n",
      " 'MLP_aggregator': False,\n",
      " 'bs': 64,\n",
      " 'debug': False,\n",
      " 'device': 'cuda',\n",
      " 'epoch': 50,\n",
      " 'experts': 3,\n",
      " 'force_cpu': False,\n",
      " 'log_wandb': True,\n",
      " 'loss': 'celoss',\n",
      " 'lr': 1e-05,\n",
      " 'lr_decay_rate': 0.1,\n",
      " 'lws': False,\n",
      " 'model': 'Deeplabv3_w_Better_Experts',\n",
      " 'name': 'ace_3exp_30June',\n",
      " 'num_workers': 16,\n",
      " 'out_dir': 'out/baseline/',\n",
      " 'seed': 2436,\n",
      " 'separate_backprop': False,\n",
      " 'small_dataset': True,\n",
      " 'step_size': 10,\n",
      " 'test_only': False,\n",
      " 'weight_decay': 0.01}\n"
     ]
    },
    {
     "name": "stdout",
     "output_type": "stream",
     "text": [
      "dict_keys(['epoch', 'state_dict', 'perf', 'last_epoch', 'optimizer'])\n"
     ]
    }
   ],
   "source": [
    "config_fp ='/home/valerie/Projects/Alps_LCC/out/experts/ace_3exp_30June/config.json'\n",
    "checkpoint_path = '/home/valerie/Projects/Alps_LCC/out/experts/ace_3exp_30June/current_best.pt'\n",
    "# Open the JSON file and load its contents as a dictionary\n",
    "with open(config_fp, 'r') as json_file:\n",
    "    cfg = json.load(json_file)\n",
    "    args = Namespace(**cfg)\n",
    "    pprint(cfg)\n",
    "checkpoint = torch.load(checkpoint_path)\n",
    "pprint(checkpoint.keys())"
   ]
  },
  {
   "cell_type": "code",
   "execution_count": 19,
   "metadata": {},
   "outputs": [],
   "source": [
    "model = ACE_deeplabv3P_w_Better_Experts(num_classes=10,num_experts=args.experts, pretrained_backbone=True,use_lws=True,)\n",
    "model.load_state_dict(checkpoint['state_dict'])\n",
    "device = 'cuda:0' if torch.cuda.is_available() else 'cpu'\n",
    "device\n",
    "model = model.to(device)"
   ]
  },
  {
   "cell_type": "code",
   "execution_count": 24,
   "metadata": {},
   "outputs": [],
   "source": [
    "img_dir = '/home/valerie/data/rocky_tlm/rgb/' \n",
    "dem_dir = '/home/valerie/data/rocky_tlm/dem/' \n",
    "mask_dir = '/home/valerie/data/ace_alps/mask' \n",
    "test_csv = '/home/valerie/Projects/Alps_LCC/data/split/test_dataset.csv'\n",
    "\n",
    "\n",
    "test_dataset = SwissImage(\n",
    "    dataset_csv = test_csv,\n",
    "    img_dir = img_dir,\n",
    "    dem_dir = dem_dir,\n",
    "    mask_dir = mask_dir,\n",
    "    common_transform=None,\n",
    "    img_transform= None,\n",
    "    debug= False,          \n",
    ")\n",
    "test_loader = DataLoader(test_dataset, \n",
    "    batch_size= 64,\n",
    "    shuffle=False,\n",
    "    num_workers= 8,\n",
    "    pin_memory=True\n",
    ")\n",
    "\n"
   ]
  },
  {
   "cell_type": "code",
   "execution_count": 25,
   "metadata": {},
   "outputs": [
    {
     "name": "stderr",
     "output_type": "stream",
     "text": [
      "718it [10:54,  1.10it/s]\n"
     ]
    }
   ],
   "source": [
    "from utils.inference_utils import MetricLogger\n",
    "metrics_0 = MetricLogger( n_classes=10)\n",
    "metrics_1 = MetricLogger( n_classes=10)\n",
    "metrics_2 = MetricLogger(10)\n",
    "\n",
    "for i, (image, dem, mask) in tqdm(enumerate(test_loader)):\n",
    "    \n",
    "    # move data to device\n",
    "    input = torch.cat((image, dem), dim=1).to(device) \n",
    "    mask = mask.to(device) \n",
    "    num_inputs = input.size(0)\n",
    "    \n",
    "    # Run forwards pass and compute loss : \n",
    "    output = model(input) \n",
    "    \n",
    "    exp_0_logits =  softmax( output['exp_0'],dim=1)\n",
    "    preds_0 = torch.argmax(exp_0_logits.detach().cpu(),axis=1) \n",
    "    exp_1_logits =  softmax(output['exp_1'], dim=1 )  \n",
    "    preds_1 = torch.argmax(exp_1_logits.detach().cpu(),axis=1) \n",
    "    exp_2_logits= softmax( output['exp_2'],dim=1)\n",
    "    preds_2 = torch.argmax(exp_2_logits.detach().cpu(),axis=1) \n",
    "    \n",
    "    gt = mask.squeeze().detach().cpu().numpy()\n",
    "    metrics_0.update(gt, preds_0.numpy())\n",
    "    metrics_1.update(gt, preds_1.numpy())\n",
    "    metrics_2.update(gt, preds_2.numpy())"
   ]
  },
  {
   "cell_type": "code",
   "execution_count": 26,
   "metadata": {},
   "outputs": [
    {
     "name": "stdout",
     "output_type": "stream",
     "text": [
      "mean_acc, mean_iou, overall_acc \n",
      "expert 0\n",
      "{'common_cls_acc': 0.475,\n",
      " 'frequent_cls_acc': 0.865,\n",
      " 'rare_cls_acc': 0.134,\n",
      " 'test_acc': {'Background': 0.0,\n",
      "              'Bedrock': 0.799,\n",
      "              'Bedrockwith grass': 0.144,\n",
      "              'Forest': 0.956,\n",
      "              'Glacier': 0.892,\n",
      "              'Large blocks': 0.231,\n",
      "              'Large blocks with grass': 0.038,\n",
      "              'Scree': 0.815,\n",
      "              'Scree with grass': 0.386,\n",
      "              'Water': 0.894},\n",
      " 'test_macc': 0.516,\n",
      " 'test_miou': 0.448,\n",
      " 'test_oacc': 0.833}\n",
      "expert 1\n",
      "{'common_cls_acc': 0.852,\n",
      " 'frequent_cls_acc': 0.048,\n",
      " 'rare_cls_acc': 0.472,\n",
      " 'test_acc': {'Background': 0.013,\n",
      "              'Bedrock': 0.002,\n",
      "              'Bedrockwith grass': 0.696,\n",
      "              'Forest': 0.084,\n",
      "              'Glacier': 0.099,\n",
      "              'Large blocks': 0.873,\n",
      "              'Large blocks with grass': 0.072,\n",
      "              'Scree': 0.008,\n",
      "              'Scree with grass': 0.888,\n",
      "              'Water': 0.973},\n",
      " 'test_macc': 0.371,\n",
      " 'test_miou': 0.037,\n",
      " 'test_oacc': 0.067}\n",
      "expert 2\n",
      "{'common_cls_acc': 0.283,\n",
      " 'frequent_cls_acc': 0.117,\n",
      " 'rare_cls_acc': 0.782,\n",
      " 'test_acc': {'Background': 0.018,\n",
      "              'Bedrock': 0.004,\n",
      "              'Bedrockwith grass': 0.003,\n",
      "              'Forest': 0.167,\n",
      "              'Glacier': 0.263,\n",
      "              'Large blocks': 0.957,\n",
      "              'Large blocks with grass': 0.607,\n",
      "              'Scree': 0.035,\n",
      "              'Scree with grass': 0.151,\n",
      "              'Water': 0.694},\n",
      " 'test_macc': 0.29,\n",
      " 'test_miou': 0.046,\n",
      " 'test_oacc': 0.111}\n"
     ]
    }
   ],
   "source": [
    "mean_acc, mean_iou, acc_cls, overall_acc = metrics_0.get_scores()\n",
    "print('mean_acc, mean_iou, overall_acc ')\n",
    "print('expert 0' )\n",
    "class_accuracies = { cls : np.round (value,3) for cls, value in zip (classes.keys(),acc_cls )  }     \n",
    "freq_cls_acc =   1/4* (class_accuracies[\"Scree\"]+ class_accuracies[\"Bedrock\"] + class_accuracies[\"Glacier\"] + class_accuracies[\"Forest\"])\n",
    "common_cls_acc = 1/3* (class_accuracies[\"Scree with grass\"]+    class_accuracies[\"Water\"]+   class_accuracies[\"Bedrockwith grass\"])\n",
    "rare_cls_acc =   1/2* (class_accuracies[\"Large blocks\"]+   class_accuracies[\"Large blocks with grass\"]) \n",
    "metrics0 = {\n",
    "            'test_miou' : np.round ( mean_iou,3), \n",
    "            'test_macc':  np.round (mean_acc,3), \n",
    "            'test_oacc':  np.round (overall_acc,3),\n",
    "            'frequent_cls_acc':np.round(freq_cls_acc,3),\n",
    "            'common_cls_acc': np.round(common_cls_acc,3),\n",
    "            'rare_cls_acc': np.round(rare_cls_acc,3),\n",
    "            'test_acc' :  class_accuracies,\n",
    "    }\n",
    "pprint(metrics0)\n",
    "#\n",
    "mean_acc, mean_iou, acc_cls, overall_acc = metrics_1.get_scores()\n",
    "print('expert 1' )\n",
    "class_accuracies = { cls : np.round (value,3) for cls, value in zip (classes.keys(),acc_cls )  }\n",
    "freq_cls_acc =   1/4* (class_accuracies[\"Scree\"]+ class_accuracies[\"Bedrock\"] + class_accuracies[\"Glacier\"] + class_accuracies[\"Forest\"])\n",
    "common_cls_acc = 1/3* (class_accuracies[\"Scree with grass\"]+    class_accuracies[\"Water\"]+   class_accuracies[\"Bedrockwith grass\"])\n",
    "rare_cls_acc =   1/2* (class_accuracies[\"Large blocks\"]+   class_accuracies[\"Large blocks with grass\"])\n",
    "metrics1 = {\n",
    "            'test_miou' : np.round ( mean_iou,3), \n",
    "            'test_macc':  np.round (mean_acc,3), \n",
    "            'test_oacc':  np.round (overall_acc,3),\n",
    "            'frequent_cls_acc':np.round(freq_cls_acc,3),\n",
    "            'common_cls_acc': np.round(common_cls_acc,3),\n",
    "            'rare_cls_acc': np.round(rare_cls_acc,3),\n",
    "            'test_acc' :  class_accuracies,\n",
    "    }\n",
    "pprint(metrics1)\n",
    "mean_acc, mean_iou, acc_cls, overall_acc = metrics_2.get_scores()\n",
    "#\n",
    "print('expert 2' )\n",
    "class_accuracies = { cls : np.round (value,3) for cls, value in zip (classes.keys(),acc_cls )  }\n",
    "freq_cls_acc =   1/4* (class_accuracies[\"Scree\"]+ class_accuracies[\"Bedrock\"] + class_accuracies[\"Glacier\"] + class_accuracies[\"Forest\"])\n",
    "common_cls_acc = 1/3* (class_accuracies[\"Scree with grass\"]+    class_accuracies[\"Water\"]+   class_accuracies[\"Bedrockwith grass\"])\n",
    "rare_cls_acc =   1/2* (class_accuracies[\"Large blocks\"]+   class_accuracies[\"Large blocks with grass\"])\n",
    "metrics2 = {\n",
    "            'test_miou' : np.round ( mean_iou,3), \n",
    "            'test_macc':  np.round (mean_acc,3), \n",
    "            'test_oacc':  np.round (overall_acc,3),\n",
    "            'frequent_cls_acc':np.round(freq_cls_acc,3),\n",
    "            'common_cls_acc': np.round(common_cls_acc,3),\n",
    "            'rare_cls_acc': np.round(rare_cls_acc,3),\n",
    "            'test_acc' :  class_accuracies,\n",
    "    }\n",
    "pprint(metrics2)\n"
   ]
  },
  {
   "cell_type": "code",
   "execution_count": 30,
   "metadata": {},
   "outputs": [
    {
     "data": {
      "image/png": "[encoded data removed]",
      "text/plain": [
       "<Figure size 1000x500 with 1 Axes>"
      ]
     },
     "metadata": {},
     "output_type": "display_data"
    }
   ],
   "source": [
    "v_0 = list(metrics0['test_acc'].values())\n",
    "v_1 = list(metrics1['test_acc'].values())\n",
    "v_2 = list(metrics2['test_acc'].values())\n",
    "\n",
    "\n",
    "fig = plt.figure(figsize = (10, 5))\n",
    "# Set position of bar on X axis\n",
    "barWidth =0.2\n",
    "br1 = np.arange(len(v_0))\n",
    "br2 = [x + barWidth for x in br1]\n",
    "br3 = [x + barWidth for x in br2]\n",
    "\n",
    "# creating the bar plot\n",
    "plt.bar(br1,v_0, color ='maroon',  width = barWidth, label ='expert frequent' )\n",
    "plt.bar(br2,v_1, color ='blue',  width = barWidth , label ='expert medium')\n",
    "plt.bar(br3,v_2, color ='red',  width = barWidth, label ='expert rare' )\n",
    "plt.title('Test accuracy of each expert ')\n",
    "plt.xlabel('land cover categories',  fontsize = 15)\n",
    "plt.xticks(range(10),['Background', \"Bedrock\", \"Bedrockwith grass\", \"Large blocks\", \"Large blocks with grass\", \"\\nScree\",  \"Scree with grass\",\"\\nWater\", \"Forest\" , \"Glacier\" ,],rotation =15)\n",
    "plt.text(x=3,y=1,s=config_fp,fontsize = 6)\n",
    "plt.legend()\n",
    "plt.show()"
   ]
  },
  {
   "cell_type": "code",
   "execution_count": null,
   "metadata": {},
   "outputs": [
    {
     "data": {
      "text/plain": [
       "[0.242,\n",
       " 0.316,\n",
       " 0.664,\n",
       " 0.69,\n",
       " 0.027,\n",
       " nan,\n",
       " {'Background': 0.0,\n",
       "  'Bedrock': 0.634,\n",
       "  'Bedrockwith grass': 0.0,\n",
       "  'Large blocks': 0.002,\n",
       "  'Large blocks with grass': nan,\n",
       "  'Scree': 0.663,\n",
       "  'Scree with grass': 0.051,\n",
       "  'Water': 0.03,\n",
       "  'Forest': 0.695,\n",
       "  'Glacier': 0.768}]"
      ]
     },
     "execution_count": 13,
     "metadata": {},
     "output_type": "execute_result"
    }
   ],
   "source": [
    "v_0"
   ]
  },
  {
   "cell_type": "code",
   "execution_count": null,
   "metadata": {},
   "outputs": [],
   "source": []
  }
 ],
 "metadata": {
  "kernelspec": {
   "display_name": "ace",
   "language": "python",
   "name": "python3"
  },
  "language_info": {
   "codemirror_mode": {
    "name": "ipython",
    "version": 3
   },
   "file_extension": ".py",
   "mimetype": "text/x-python",
   "name": "python",
   "nbconvert_exporter": "python",
   "pygments_lexer": "ipython3",
   "version": "3.11.3"
  },
  "orig_nbformat": 4
 },
 "nbformat": 4,
 "nbformat_minor": 2
}
