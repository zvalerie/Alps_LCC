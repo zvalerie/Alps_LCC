{
 "cells": [
  {
   "cell_type": "code",
   "execution_count": 1,
   "metadata": {},
   "outputs": [],
   "source": [
    "import os\n",
    "import sys\n",
    "import numpy as np\n",
    "import pandas as pd\n",
    "from PIL import Image\n",
    "from tqdm import tqdm_gui\n",
    "import torch\n",
    "sys.path.append(\"..\") \n"
   ]
  },
  {
   "cell_type": "code",
   "execution_count": 2,
   "metadata": {},
   "outputs": [],
   "source": [
    "%load_ext autoreload\n",
    "%autoreload 2"
   ]
  },
  {
   "cell_type": "code",
   "execution_count": 29,
   "metadata": {},
   "outputs": [],
   "source": [
    "img_dir = '/home/valerie/data/rocky_tlm/rgb/'  #'/data/xiaolong/rgb'\n",
    "dem_dir = '/home/valerie/data/rocky_tlm/dem/' # /data/xiaolong/dem'\n",
    "mask_dir = '/home/valerie/data/ace_alps/mask'\n",
    "few_index = [2,3,4,6]\n",
    "ds_csv = '/home/valerie/Projects/Alps_LCC/data/split_subset/train_subset.csv'"
   ]
  },
  {
   "cell_type": "code",
   "execution_count": 35,
   "metadata": {},
   "outputs": [],
   "source": [
    "from XL.data_preprocessing.data_preprocess import *\n",
    "\n",
    "#label_selection(label_path=mask_dir, rgb_path=img_dir,threshold=0.1)"
   ]
  },
  {
   "cell_type": "code",
   "execution_count": 5,
   "metadata": {},
   "outputs": [
    {
     "data": {
      "text/plain": [
       "59.740399728267"
      ]
     },
     "execution_count": 5,
     "metadata": {},
     "output_type": "execute_result"
    }
   ],
   "source": [
    "238317 /398921 *100"
   ]
  },
  {
   "cell_type": "code",
   "execution_count": 6,
   "metadata": {},
   "outputs": [],
   "source": [
    "from XL.data_preprocessing.data_preprocess import class_distribution\n",
    "\n",
    "for path in os.listdir('data/split/'):\n",
    "    \n",
    "    class_distribution('data/split/'+path,path.replace('.csv','')+'_class_distribution')"
   ]
  },
  {
   "cell_type": "code",
   "execution_count": 9,
   "metadata": {},
   "outputs": [
    {
     "name": "stderr",
     "output_type": "stream",
     "text": [
      "  0%|          | 0/45907 [00:00<?, ?it/s]"
     ]
    },
    {
     "name": "stderr",
     "output_type": "stream",
     "text": [
      "100%|██████████| 45907/45907 [00:35<00:00, 1301.89it/s]\n"
     ]
    }
   ],
   "source": [
    "few_categories_tile_selection('/home/valerie/Projects/Alps_LCC/data/split/test_dataset.csv',few_index=few_index)"
   ]
  },
  {
   "cell_type": "code",
   "execution_count": 38,
   "metadata": {},
   "outputs": [
    {
     "data": {
      "text/html": [
       "<div>\n",
       "<style scoped>\n",
       "    .dataframe tbody tr th:only-of-type {\n",
       "        vertical-align: middle;\n",
       "    }\n",
       "\n",
       "    .dataframe tbody tr th {\n",
       "        vertical-align: top;\n",
       "    }\n",
       "\n",
       "    .dataframe thead th {\n",
       "        text-align: right;\n",
       "    }\n",
       "</style>\n",
       "<table border=\"1\" class=\"dataframe\">\n",
       "  <thead>\n",
       "    <tr style=\"text-align: right;\">\n",
       "      <th></th>\n",
       "      <th>rbg</th>\n",
       "      <th>dem</th>\n",
       "      <th>mask</th>\n",
       "      <th>mainclass</th>\n",
       "    </tr>\n",
       "  </thead>\n",
       "  <tbody>\n",
       "    <tr>\n",
       "      <th>0</th>\n",
       "      <td>26193_11033_rgb.tif</td>\n",
       "      <td>26193_11033_dem.tif</td>\n",
       "      <td>26193_11033_label.tif</td>\n",
       "      <td>9.0</td>\n",
       "    </tr>\n",
       "    <tr>\n",
       "      <th>1</th>\n",
       "      <td>26455_11059_rgb.tif</td>\n",
       "      <td>26455_11059_dem.tif</td>\n",
       "      <td>26455_11059_label.tif</td>\n",
       "      <td>1.0</td>\n",
       "    </tr>\n",
       "    <tr>\n",
       "      <th>2</th>\n",
       "      <td>25602_11133_rgb.tif</td>\n",
       "      <td>25602_11133_dem.tif</td>\n",
       "      <td>25602_11133_label.tif</td>\n",
       "      <td>10.0</td>\n",
       "    </tr>\n",
       "    <tr>\n",
       "      <th>3</th>\n",
       "      <td>25750_11179_rgb.tif</td>\n",
       "      <td>25750_11179_dem.tif</td>\n",
       "      <td>25750_11179_label.tif</td>\n",
       "      <td>1.0</td>\n",
       "    </tr>\n",
       "    <tr>\n",
       "      <th>4</th>\n",
       "      <td>25659_11101_rgb.tif</td>\n",
       "      <td>25659_11101_dem.tif</td>\n",
       "      <td>25659_11101_label.tif</td>\n",
       "      <td>1.0</td>\n",
       "    </tr>\n",
       "    <tr>\n",
       "      <th>...</th>\n",
       "      <td>...</td>\n",
       "      <td>...</td>\n",
       "      <td>...</td>\n",
       "      <td>...</td>\n",
       "    </tr>\n",
       "    <tr>\n",
       "      <th>137716</th>\n",
       "      <td>26754_11508_rgb.tif</td>\n",
       "      <td>26754_11508_dem.tif</td>\n",
       "      <td>26754_11508_label.tif</td>\n",
       "      <td>10.0</td>\n",
       "    </tr>\n",
       "    <tr>\n",
       "      <th>137717</th>\n",
       "      <td>26104_11404_rgb.tif</td>\n",
       "      <td>26104_11404_dem.tif</td>\n",
       "      <td>26104_11404_label.tif</td>\n",
       "      <td>9.0</td>\n",
       "    </tr>\n",
       "    <tr>\n",
       "      <th>137718</th>\n",
       "      <td>25931_11295_rgb.tif</td>\n",
       "      <td>25931_11295_dem.tif</td>\n",
       "      <td>25931_11295_label.tif</td>\n",
       "      <td>10.0</td>\n",
       "    </tr>\n",
       "    <tr>\n",
       "      <th>137719</th>\n",
       "      <td>26184_11131_rgb.tif</td>\n",
       "      <td>26184_11131_dem.tif</td>\n",
       "      <td>26184_11131_label.tif</td>\n",
       "      <td>10.0</td>\n",
       "    </tr>\n",
       "    <tr>\n",
       "      <th>137720</th>\n",
       "      <td>25890_10866_rgb.tif</td>\n",
       "      <td>25890_10866_dem.tif</td>\n",
       "      <td>25890_10866_label.tif</td>\n",
       "      <td>9.0</td>\n",
       "    </tr>\n",
       "  </tbody>\n",
       "</table>\n",
       "<p>137721 rows × 4 columns</p>\n",
       "</div>"
      ],
      "text/plain": [
       "                        rbg                  dem                   mask  \\\n",
       "0       26193_11033_rgb.tif  26193_11033_dem.tif  26193_11033_label.tif   \n",
       "1       26455_11059_rgb.tif  26455_11059_dem.tif  26455_11059_label.tif   \n",
       "2       25602_11133_rgb.tif  25602_11133_dem.tif  25602_11133_label.tif   \n",
       "3       25750_11179_rgb.tif  25750_11179_dem.tif  25750_11179_label.tif   \n",
       "4       25659_11101_rgb.tif  25659_11101_dem.tif  25659_11101_label.tif   \n",
       "...                     ...                  ...                    ...   \n",
       "137716  26754_11508_rgb.tif  26754_11508_dem.tif  26754_11508_label.tif   \n",
       "137717  26104_11404_rgb.tif  26104_11404_dem.tif  26104_11404_label.tif   \n",
       "137718  25931_11295_rgb.tif  25931_11295_dem.tif  25931_11295_label.tif   \n",
       "137719  26184_11131_rgb.tif  26184_11131_dem.tif  26184_11131_label.tif   \n",
       "137720  25890_10866_rgb.tif  25890_10866_dem.tif  25890_10866_label.tif   \n",
       "\n",
       "        mainclass  \n",
       "0             9.0  \n",
       "1             1.0  \n",
       "2            10.0  \n",
       "3             1.0  \n",
       "4             1.0  \n",
       "...           ...  \n",
       "137716       10.0  \n",
       "137717        9.0  \n",
       "137718       10.0  \n",
       "137719       10.0  \n",
       "137720        9.0  \n",
       "\n",
       "[137721 rows x 4 columns]"
      ]
     },
     "execution_count": 38,
     "metadata": {},
     "output_type": "execute_result"
    }
   ],
   "source": [
    "df = pd.read_csv('/home/valerie/Projects/Alps_LCC/data/split/train_dataset.csv')"
   ]
  },
  {
   "cell_type": "code",
   "execution_count": 22,
   "metadata": {},
   "outputs": [
    {
     "data": {
      "text/plain": [
       "10.0    40490\n",
       "1.0     39967\n",
       "9.0     34448\n",
       "14.0    15675\n",
       "11.0     1621\n",
       "7.0      1457\n",
       "13.0     1115\n",
       "15.0      985\n",
       "12.0      809\n",
       "2.0       793\n",
       "3.0       304\n",
       "4.0        32\n",
       "5.0        25\n",
       "Name: mainclass, dtype: int64"
      ]
     },
     "execution_count": 22,
     "metadata": {},
     "output_type": "execute_result"
    }
   ],
   "source": [
    "df = pd.read_csv('/home/valerie/Projects/Alps_LCC/data/split/train_dataset.csv')\n",
    "df['mainclass'].value_counts(dropna=False)"
   ]
  },
  {
   "cell_type": "code",
   "execution_count": 31,
   "metadata": {},
   "outputs": [
    {
     "data": {
      "text/plain": [
       "10.0    4049\n",
       "1.0     3997\n",
       "9.0     3445\n",
       "14.0    1568\n",
       "11.0     162\n",
       "7.0      146\n",
       "13.0     112\n",
       "15.0      98\n",
       "12.0      81\n",
       "2.0       79\n",
       "3.0       30\n",
       "4.0        3\n",
       "5.0        2\n",
       "Name: mainclass, dtype: int64"
      ]
     },
     "execution_count": 31,
     "metadata": {},
     "output_type": "execute_result"
    }
   ],
   "source": [
    "df = pd.read_csv('/home/valerie/Projects/Alps_LCC/data/split_subset/train_subset.csv')\n",
    "df['mainclass'].value_counts(dropna=False)\n"
   ]
  },
  {
   "cell_type": "code",
   "execution_count": 25,
   "metadata": {},
   "outputs": [
    {
     "data": {
      "text/plain": [
       "0    12519\n",
       "1     1253\n",
       "Name: few, dtype: int64"
      ]
     },
     "execution_count": 25,
     "metadata": {},
     "output_type": "execute_result"
    }
   ],
   "source": [
    "df = pd.read_csv('/home/valerie/Projects/Alps_LCC/data/split_subset/train_subset_few.csv')\n",
    "df['few'].value_counts(dropna=False)"
   ]
  },
  {
   "cell_type": "code",
   "execution_count": 34,
   "metadata": {},
   "outputs": [
    {
     "name": "stderr",
     "output_type": "stream",
     "text": [
      "  0%|          | 0/13772 [00:00<?, ?it/s]"
     ]
    },
    {
     "name": "stderr",
     "output_type": "stream",
     "text": [
      "100%|██████████| 13772/13772 [00:37<00:00, 370.75it/s]\n",
      "100%|██████████| 13772/13772 [00:37<00:00, 368.68it/s]\n"
     ]
    },
    {
     "data": {
      "text/plain": [
       "(array([-4.61502776e-05,  0.00000000e+00,  0.00000000e+00]),\n",
       " array([1.00000567, 0.        , 0.        ]))"
      ]
     },
     "execution_count": 34,
     "metadata": {},
     "output_type": "execute_result"
    }
   ],
   "source": [
    "from XL.lib.dataset.SwissImage import SwissImage\n",
    "\n",
    "ds = SwissImage(dataset_csv=ds_csv, img_dir= img_dir,dem_dir=dem_dir,mask_dir=mask_dir)\n",
    "cal_mean_std(ds)"
   ]
  },
  {
   "cell_type": "code",
   "execution_count": 37,
   "metadata": {},
   "outputs": [
    {
     "name": "stderr",
     "output_type": "stream",
     "text": [
      "  0%|          | 0/13772 [00:00<?, ?it/s]"
     ]
    },
    {
     "name": "stderr",
     "output_type": "stream",
     "text": [
      "100%|██████████| 13772/13772 [00:38<00:00, 361.18it/s]\n"
     ]
    },
    {
     "data": {
      "text/plain": [
       "(array([-1.84600861,  6.90439665, -6.835506  ,  0.50212398]),\n",
       " array([0.46730447, 0.48176057, 0.4038767 , 0.01979469]))"
      ]
     },
     "execution_count": 37,
     "metadata": {},
     "output_type": "execute_result"
    }
   ],
   "source": [
    "compute_mean_std(ds)"
   ]
  },
  {
   "cell_type": "code",
   "execution_count": null,
   "metadata": {},
   "outputs": [],
   "source": []
  }
 ],
 "metadata": {
  "kernelspec": {
   "display_name": "ace",
   "language": "python",
   "name": "python3"
  },
  "language_info": {
   "codemirror_mode": {
    "name": "ipython",
    "version": 3
   },
   "file_extension": ".py",
   "mimetype": "text/x-python",
   "name": "python",
   "nbconvert_exporter": "python",
   "pygments_lexer": "ipython3",
   "version": "3.11.3"
  },
  "orig_nbformat": 4
 },
 "nbformat": 4,
 "nbformat_minor": 2
}
